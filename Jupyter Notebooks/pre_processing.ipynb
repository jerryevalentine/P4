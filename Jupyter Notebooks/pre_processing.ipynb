{
 "cells": [
  {
   "cell_type": "markdown",
   "id": "ae4eb553-119b-4fe2-b11c-29afef4cb867",
   "metadata": {},
   "source": [
    "<a id=\"TOC\"></a> \n",
    "[save_dataframe_to_database](#save_dataframe_to_database)<br>\n",
    "[integer_to_boolean](#integer_to_boolean)<br>\n",
    "[df_column_count](#df_column_count)<br>\n",
    "[pre_processing_nulls](#pre_processing_nulls)<br>\n",
    "[pre_processing_dummies](#pre_processing_dummies)<br>\n",
    "[pre_processing_scaling](#pre_processing_scaling)<br>\n",
    "\n",
    "[TOC](#TOC)"
   ]
  },
  {
   "cell_type": "code",
   "execution_count": 1,
   "id": "1bf9c27e-ba08-4045-b921-0105dd66b2ad",
   "metadata": {
    "tags": []
   },
   "outputs": [
    {
     "name": "stderr",
     "output_type": "stream",
     "text": [
      "C:\\Users\\jerry\\anaconda3\\Lib\\site-packages\\pandas\\core\\arrays\\masked.py:60: UserWarning: Pandas requires version '1.3.6' or newer of 'bottleneck' (version '1.3.5' currently installed).\n",
      "  from pandas.core import (\n"
     ]
    },
    {
     "name": "stdout",
     "output_type": "stream",
     "text": [
      "   column_1  column_2 column_3\n",
      "1       2.0      20.0        B\n",
      "3       4.0      40.0        D\n"
     ]
    }
   ],
   "source": [
    "import pandas as pd\n",
    "\n",
    "import os\n",
    "import sys\n",
    "\n",
    "library_directory = os.path.abspath('C:\\\\Users\\\\jerry\\\\Programming\\\\library')\n",
    "if library_directory not in sys.path:\n",
    "    sys.path.append(library_directory)\n",
    "from pre_processing_utilities import (\n",
    "    pre_processing_nulls\n",
    "    ,pre_processing_dummies\n",
    "    ,pre_processing_scaling\n",
    "    ,df_column_count\n",
    "    ,integer_to_boolean\n",
    "    ,scale_numeric_columns\n",
    ")\n",
    "\n",
    "from db_utils import (\n",
    "    insert_csv_to_db\n",
    "    ,csv_load_db\n",
    "    ,save_dataframe_to_database\n",
    ")\n",
    "data = 'spotify'\n",
    "database_name = 'spotify.db'\n",
    "table_name = \"spotify\"\n",
    "file_path = \"spotify_songs.csv\"\n",
    "df = pd.read_csv(file_path)"
   ]
  },
  {
   "cell_type": "markdown",
   "id": "0885a90e-faa2-4677-8d35-300a4babd63e",
   "metadata": {},
   "source": [
    "# save_dataframe_to_database\n",
    "[TOC](#TOC)"
   ]
  },
  {
   "cell_type": "code",
   "execution_count": 2,
   "id": "e6183411-aebd-4189-bb3f-51878608fb10",
   "metadata": {},
   "outputs": [],
   "source": [
    "database_name = 'spotify'\n",
    "table_name = \"spotify\"\n",
    "file_path = \"spotify_songs.csv\"\n",
    "save_dataframe_to_database(database_name, table_name, df)"
   ]
  },
  {
   "cell_type": "markdown",
   "id": "c110c0df-9ff0-45ff-8eab-837f1968774c",
   "metadata": {},
   "source": [
    "# integer_to_boolean\n",
    "<a id=\"integer_to_boolean\"></a> \n",
    "[TOC](#TOC)"
   ]
  },
  {
   "cell_type": "code",
   "execution_count": 3,
   "id": "9e998ac2-af40-486a-baad-e18bdce062a7",
   "metadata": {
    "tags": []
   },
   "outputs": [
    {
     "data": {
      "text/html": [
       "<div>\n",
       "<style scoped>\n",
       "    .dataframe tbody tr th:only-of-type {\n",
       "        vertical-align: middle;\n",
       "    }\n",
       "\n",
       "    .dataframe tbody tr th {\n",
       "        vertical-align: top;\n",
       "    }\n",
       "\n",
       "    .dataframe thead th {\n",
       "        text-align: right;\n",
       "    }\n",
       "</style>\n",
       "<table border=\"1\" class=\"dataframe\">\n",
       "  <thead>\n",
       "    <tr style=\"text-align: right;\">\n",
       "      <th></th>\n",
       "      <th>track_id</th>\n",
       "      <th>track_name</th>\n",
       "      <th>track_artist</th>\n",
       "      <th>track_popularity</th>\n",
       "      <th>track_album_id</th>\n",
       "      <th>track_album_name</th>\n",
       "      <th>track_album_release_date</th>\n",
       "      <th>playlist_name</th>\n",
       "      <th>playlist_id</th>\n",
       "      <th>playlist_genre</th>\n",
       "      <th>...</th>\n",
       "      <th>loudness</th>\n",
       "      <th>mode</th>\n",
       "      <th>speechiness</th>\n",
       "      <th>acousticness</th>\n",
       "      <th>instrumentalness</th>\n",
       "      <th>liveness</th>\n",
       "      <th>valence</th>\n",
       "      <th>tempo</th>\n",
       "      <th>duration_ms</th>\n",
       "      <th>track_popularity_boolean</th>\n",
       "    </tr>\n",
       "  </thead>\n",
       "  <tbody>\n",
       "    <tr>\n",
       "      <th>0</th>\n",
       "      <td>6f807x0ima9a1j3VPbc7VN</td>\n",
       "      <td>I Don't Care (with Justin Bieber) - Loud Luxur...</td>\n",
       "      <td>Ed Sheeran</td>\n",
       "      <td>66</td>\n",
       "      <td>2oCs0DGTsRO98Gh5ZSl2Cx</td>\n",
       "      <td>I Don't Care (with Justin Bieber) [Loud Luxury...</td>\n",
       "      <td>2019-06-14</td>\n",
       "      <td>Pop Remix</td>\n",
       "      <td>37i9dQZF1DXcZDD7cfEKhW</td>\n",
       "      <td>pop</td>\n",
       "      <td>...</td>\n",
       "      <td>-2.634</td>\n",
       "      <td>1</td>\n",
       "      <td>0.0583</td>\n",
       "      <td>0.102</td>\n",
       "      <td>0.0</td>\n",
       "      <td>0.0653</td>\n",
       "      <td>0.518</td>\n",
       "      <td>122.036</td>\n",
       "      <td>194754</td>\n",
       "      <td>1</td>\n",
       "    </tr>\n",
       "  </tbody>\n",
       "</table>\n",
       "<p>1 rows × 24 columns</p>\n",
       "</div>"
      ],
      "text/plain": [
       "                 track_id                                         track_name  \\\n",
       "0  6f807x0ima9a1j3VPbc7VN  I Don't Care (with Justin Bieber) - Loud Luxur...   \n",
       "\n",
       "  track_artist  track_popularity          track_album_id  \\\n",
       "0   Ed Sheeran                66  2oCs0DGTsRO98Gh5ZSl2Cx   \n",
       "\n",
       "                                    track_album_name track_album_release_date  \\\n",
       "0  I Don't Care (with Justin Bieber) [Loud Luxury...               2019-06-14   \n",
       "\n",
       "  playlist_name             playlist_id playlist_genre  ... loudness  mode  \\\n",
       "0     Pop Remix  37i9dQZF1DXcZDD7cfEKhW            pop  ...   -2.634     1   \n",
       "\n",
       "   speechiness  acousticness  instrumentalness  liveness  valence    tempo  \\\n",
       "0       0.0583         0.102               0.0    0.0653    0.518  122.036   \n",
       "\n",
       "   duration_ms  track_popularity_boolean  \n",
       "0       194754                         1  \n",
       "\n",
       "[1 rows x 24 columns]"
      ]
     },
     "execution_count": 3,
     "metadata": {},
     "output_type": "execute_result"
    }
   ],
   "source": [
    "numeric_column = 'track_popularity'\n",
    "cutoff = 50\n",
    "# Example usage\n",
    "df_boolean = integer_to_boolean(df, numeric_column, cutoff=None, table_name=None, database=None)\n",
    "df_boolean.head(1)"
   ]
  },
  {
   "cell_type": "markdown",
   "id": "39334960-ef05-4135-9ea5-7f5f737a291b",
   "metadata": {},
   "source": [
    "# df_column_count\n",
    "[TOC](#TOC)"
   ]
  },
  {
   "cell_type": "code",
   "execution_count": 4,
   "id": "23de3e40-0de4-492c-9203-de676dc5754a",
   "metadata": {
    "tags": []
   },
   "outputs": [
    {
     "data": {
      "text/html": [
       "<div>\n",
       "<style scoped>\n",
       "    .dataframe tbody tr th:only-of-type {\n",
       "        vertical-align: middle;\n",
       "    }\n",
       "\n",
       "    .dataframe tbody tr th {\n",
       "        vertical-align: top;\n",
       "    }\n",
       "\n",
       "    .dataframe thead th {\n",
       "        text-align: right;\n",
       "    }\n",
       "</style>\n",
       "<table border=\"1\" class=\"dataframe\">\n",
       "  <thead>\n",
       "    <tr style=\"text-align: right;\">\n",
       "      <th></th>\n",
       "      <th>track_popularity_boolean</th>\n",
       "      <th>count</th>\n",
       "      <th>percentage</th>\n",
       "    </tr>\n",
       "  </thead>\n",
       "  <tbody>\n",
       "    <tr>\n",
       "      <th>0</th>\n",
       "      <td>1</td>\n",
       "      <td>16852</td>\n",
       "      <td>51.326409</td>\n",
       "    </tr>\n",
       "    <tr>\n",
       "      <th>1</th>\n",
       "      <td>0</td>\n",
       "      <td>15981</td>\n",
       "      <td>48.673591</td>\n",
       "    </tr>\n",
       "  </tbody>\n",
       "</table>\n",
       "</div>"
      ],
      "text/plain": [
       "   track_popularity_boolean  count  percentage\n",
       "0                         1  16852   51.326409\n",
       "1                         0  15981   48.673591"
      ]
     },
     "execution_count": 4,
     "metadata": {},
     "output_type": "execute_result"
    }
   ],
   "source": [
    "count_df = df_column_count(df, 'track_popularity_boolean')\n",
    "count_df.head()"
   ]
  },
  {
   "cell_type": "markdown",
   "id": "92016fb6-e6df-40c1-9a9e-58af56982acc",
   "metadata": {},
   "source": [
    "# pre_processing_nulls\n",
    "\n",
    "[TOC](#TOC)"
   ]
  },
  {
   "cell_type": "code",
   "execution_count": 1,
   "id": "6dd80c0c-fde6-44f1-998c-be8a32fde543",
   "metadata": {
    "tags": []
   },
   "outputs": [
    {
     "name": "stderr",
     "output_type": "stream",
     "text": [
      "C:\\Users\\jerry\\anaconda3\\Lib\\site-packages\\pandas\\core\\arrays\\masked.py:60: UserWarning: Pandas requires version '1.3.6' or newer of 'bottleneck' (version '1.3.5' currently installed).\n",
      "  from pandas.core import (\n"
     ]
    },
    {
     "name": "stdout",
     "output_type": "stream",
     "text": [
      "   column_1  column_2 column_3\n",
      "1       2.0      20.0        B\n",
      "3       4.0      40.0        D\n"
     ]
    }
   ],
   "source": [
    "import pandas as pd\n",
    "\n",
    "import os\n",
    "import sys\n",
    "\n",
    "library_directory = os.path.abspath('C:\\\\Users\\\\jerry\\\\Programming\\\\library')\n",
    "if library_directory not in sys.path:\n",
    "    sys.path.append(library_directory)\n",
    "from pre_processing_utilities import (pre_processing_nulls)\n",
    "\n",
    "database_name = 'spotify'\n",
    "table_name = \"spotify\"\n",
    "file_path = \"spotify_songs.csv\"\n",
    "df = pd.read_csv(file_path)"
   ]
  },
  {
   "cell_type": "code",
   "execution_count": 8,
   "id": "9dad3852-7ba9-435d-9511-b9aacfaf17b9",
   "metadata": {
    "tags": []
   },
   "outputs": [],
   "source": [
    "import pandas as pd\n",
    "import sqlite3\n",
    "\n",
    "def query_database(database_path, query):\n",
    "    \"\"\"Queries the SQLite database and returns a dataframe.\"\"\"\n",
    "    with sqlite3.connect(database_path) as conn:\n",
    "        result = pd.read_sql_query(query, conn)\n",
    "    return result\n",
    "\n",
    "def pre_processing_dummies(data):\n",
    "    \"\"\"Processes categorical variables by creating dummy variables.\n",
    "    \n",
    "    Accepts either a DataFrame or a SQLite table.\n",
    "    \n",
    "    Returns the processed DataFrame and non-numeric column names.\n",
    "    \"\"\"\n",
    "    if isinstance(data, pd.DataFrame):\n",
    "        df = data.copy()\n",
    "    elif isinstance(data, str):  # Assuming string input is database path\n",
    "        df = query_database(data, f\"SELECT * FROM {data}\")\n",
    "    else:\n",
    "        raise ValueError(\"Input must be either a DataFrame or a database path (string).\")\n",
    "    \n",
    "    if df.empty:\n",
    "        raise ValueError(\"DataFrame or table is empty.\")\n",
    "    \n",
    "    non_numeric_cols = df.select_dtypes(include=['object', 'category']).columns.tolist()\n",
    "    df = pd.get_dummies(df, columns=non_numeric_cols, drop_first=True)\n",
    "    \n",
    "    return df, non_numeric_cols\n",
    "\n",
    "database_path = 'spotify'\n",
    "table_name = 'spotify'\n",
    "\n",
    "processed_df, non_numeric_cols = pre_processing_dummies(database_path)"
   ]
  },
  {
   "cell_type": "code",
   "execution_count": 14,
   "id": "51356b2b-c026-40a5-b2a1-38d13ebb0bf3",
   "metadata": {
    "tags": []
   },
   "outputs": [
    {
     "name": "stdout",
     "output_type": "stream",
     "text": [
      "Processed DataFrame:\n",
      "       track_popularity  danceability  energy  key  loudness  mode  \\\n",
      "0                    66         0.748   0.916    6    -2.634     1   \n",
      "1                    67         0.726   0.815   11    -4.969     1   \n",
      "2                    70         0.675   0.931    1    -3.432     0   \n",
      "3                    60         0.718   0.930    7    -3.778     1   \n",
      "4                    69         0.650   0.833    1    -4.672     1   \n",
      "...                 ...           ...     ...  ...       ...   ...   \n",
      "32828                42         0.428   0.922    2    -1.814     1   \n",
      "32829                20         0.522   0.786    0    -4.462     1   \n",
      "32830                14         0.529   0.821    6    -4.899     0   \n",
      "32831                15         0.626   0.888    2    -3.361     1   \n",
      "32832                27         0.603   0.884    5    -4.571     0   \n",
      "\n",
      "       speechiness  acousticness  instrumentalness  liveness  ...  \\\n",
      "0           0.0583      0.102000          0.000000    0.0653  ...   \n",
      "1           0.0373      0.072400          0.004210    0.3570  ...   \n",
      "2           0.0742      0.079400          0.000023    0.1100  ...   \n",
      "3           0.1020      0.028700          0.000009    0.2040  ...   \n",
      "4           0.0359      0.080300          0.000000    0.0833  ...   \n",
      "...            ...           ...               ...       ...  ...   \n",
      "32828       0.0936      0.076600          0.000000    0.0668  ...   \n",
      "32829       0.0420      0.001710          0.004270    0.3750  ...   \n",
      "32830       0.0481      0.108000          0.000001    0.1500  ...   \n",
      "32831       0.1090      0.007920          0.127000    0.3430  ...   \n",
      "32832       0.0385      0.000133          0.341000    0.7420  ...   \n",
      "\n",
      "       playlist_subgenre_new jack swing  playlist_subgenre_permanent wave  \\\n",
      "0                                 False                             False   \n",
      "1                                 False                             False   \n",
      "2                                 False                             False   \n",
      "3                                 False                             False   \n",
      "4                                 False                             False   \n",
      "...                                 ...                               ...   \n",
      "32828                             False                             False   \n",
      "32829                             False                             False   \n",
      "32830                             False                             False   \n",
      "32831                             False                             False   \n",
      "32832                             False                             False   \n",
      "\n",
      "       playlist_subgenre_pop edm  playlist_subgenre_post-teen pop  \\\n",
      "0                          False                            False   \n",
      "1                          False                            False   \n",
      "2                          False                            False   \n",
      "3                          False                            False   \n",
      "4                          False                            False   \n",
      "...                          ...                              ...   \n",
      "32828                      False                            False   \n",
      "32829                      False                            False   \n",
      "32830                      False                            False   \n",
      "32831                      False                            False   \n",
      "32832                      False                            False   \n",
      "\n",
      "       playlist_subgenre_progressive electro house  \\\n",
      "0                                            False   \n",
      "1                                            False   \n",
      "2                                            False   \n",
      "3                                            False   \n",
      "4                                            False   \n",
      "...                                            ...   \n",
      "32828                                         True   \n",
      "32829                                         True   \n",
      "32830                                         True   \n",
      "32831                                         True   \n",
      "32832                                         True   \n",
      "\n",
      "       playlist_subgenre_reggaeton  playlist_subgenre_southern hip hop  \\\n",
      "0                            False                               False   \n",
      "1                            False                               False   \n",
      "2                            False                               False   \n",
      "3                            False                               False   \n",
      "4                            False                               False   \n",
      "...                            ...                                 ...   \n",
      "32828                        False                               False   \n",
      "32829                        False                               False   \n",
      "32830                        False                               False   \n",
      "32831                        False                               False   \n",
      "32832                        False                               False   \n",
      "\n",
      "       playlist_subgenre_trap  playlist_subgenre_tropical  \\\n",
      "0                       False                       False   \n",
      "1                       False                       False   \n",
      "2                       False                       False   \n",
      "3                       False                       False   \n",
      "4                       False                       False   \n",
      "...                       ...                         ...   \n",
      "32828                   False                       False   \n",
      "32829                   False                       False   \n",
      "32830                   False                       False   \n",
      "32831                   False                       False   \n",
      "32832                   False                       False   \n",
      "\n",
      "       playlist_subgenre_urban contemporary  \n",
      "0                                     False  \n",
      "1                                     False  \n",
      "2                                     False  \n",
      "3                                     False  \n",
      "4                                     False  \n",
      "...                                     ...  \n",
      "32828                                 False  \n",
      "32829                                 False  \n",
      "32830                                 False  \n",
      "32831                                 False  \n",
      "32832                                 False  \n",
      "\n",
      "[32833 rows x 110268 columns]\n",
      "Non-numeric columns: ['track_id', 'track_name', 'track_artist', 'track_album_id', 'track_album_name', 'track_album_release_date', 'playlist_name', 'playlist_id', 'playlist_genre', 'playlist_subgenre']\n"
     ]
    }
   ],
   "source": [
    "database_path = 'spotify.db'  # Adjust as per your database file location\n",
    "table_name = 'spotify'\n",
    "try:\n",
    "    processed_df, non_numeric_cols = pre_processing_dummies(database_path, table_name)\n",
    "    print(\"Processed DataFrame:\")\n",
    "    print(processed_df)\n",
    "    print(\"Non-numeric columns:\", non_numeric_cols)\n",
    "except ValueError as e:\n",
    "    print(str(e))"
   ]
  },
  {
   "cell_type": "markdown",
   "id": "f223db26-13eb-4a6f-8f97-fb7614ea5c2b",
   "metadata": {},
   "source": [
    "# pre_processing_scaling\n",
    "<a id=\"pre_processing_scaling\"></a> \n",
    "[TOC](#TOC)"
   ]
  },
  {
   "cell_type": "code",
   "execution_count": 19,
   "id": "3c7fb4e6-9e52-4c1d-bec6-cfdc37737d0b",
   "metadata": {
    "tags": []
   },
   "outputs": [],
   "source": [
    "import pandas as pd\n",
    "data = 'spotify'\n",
    "database_name = 'spotify.db'\n",
    "table_name = \"spotify\"\n",
    "file_path = \"spotify_songs.csv\"\n",
    "df = pd.read_csv(file_path)\n",
    "\n",
    "database_path = 'spotify'  # Adjust as per your database file location\n",
    "table_name = 'spotify'  # Adjust table name as per your actual table\n",
    "\n",
    "#(scale_numeric_columns(database_path, table_name)).head(3)"
   ]
  },
  {
   "cell_type": "code",
   "execution_count": 11,
   "id": "2058fe02-ecd8-4999-b8db-155d4625f932",
   "metadata": {
    "tags": []
   },
   "outputs": [
    {
     "data": {
      "text/html": [
       "<div>\n",
       "<style scoped>\n",
       "    .dataframe tbody tr th:only-of-type {\n",
       "        vertical-align: middle;\n",
       "    }\n",
       "\n",
       "    .dataframe tbody tr th {\n",
       "        vertical-align: top;\n",
       "    }\n",
       "\n",
       "    .dataframe thead th {\n",
       "        text-align: right;\n",
       "    }\n",
       "</style>\n",
       "<table border=\"1\" class=\"dataframe\">\n",
       "  <thead>\n",
       "    <tr style=\"text-align: right;\">\n",
       "      <th></th>\n",
       "      <th>track_id</th>\n",
       "      <th>track_name</th>\n",
       "      <th>track_artist</th>\n",
       "      <th>track_popularity</th>\n",
       "      <th>track_album_id</th>\n",
       "      <th>track_album_name</th>\n",
       "      <th>track_album_release_date</th>\n",
       "      <th>playlist_name</th>\n",
       "      <th>playlist_id</th>\n",
       "      <th>playlist_genre</th>\n",
       "      <th>...</th>\n",
       "      <th>key</th>\n",
       "      <th>loudness</th>\n",
       "      <th>mode</th>\n",
       "      <th>speechiness</th>\n",
       "      <th>acousticness</th>\n",
       "      <th>instrumentalness</th>\n",
       "      <th>liveness</th>\n",
       "      <th>valence</th>\n",
       "      <th>tempo</th>\n",
       "      <th>duration_ms</th>\n",
       "    </tr>\n",
       "  </thead>\n",
       "  <tbody>\n",
       "    <tr>\n",
       "      <th>0</th>\n",
       "      <td>6f807x0ima9a1j3VPbc7VN</td>\n",
       "      <td>I Don't Care (with Justin Bieber) - Loud Luxur...</td>\n",
       "      <td>Ed Sheeran</td>\n",
       "      <td>0.941531</td>\n",
       "      <td>2oCs0DGTsRO98Gh5ZSl2Cx</td>\n",
       "      <td>I Don't Care (with Justin Bieber) [Loud Luxury...</td>\n",
       "      <td>2019-06-14</td>\n",
       "      <td>Pop Remix</td>\n",
       "      <td>37i9dQZF1DXcZDD7cfEKhW</td>\n",
       "      <td>pop</td>\n",
       "      <td>...</td>\n",
       "      <td>0.1732</td>\n",
       "      <td>1.367123</td>\n",
       "      <td>0.876177</td>\n",
       "      <td>-0.481362</td>\n",
       "      <td>-0.333898</td>\n",
       "      <td>-0.377953</td>\n",
       "      <td>-0.80923</td>\n",
       "      <td>0.031908</td>\n",
       "      <td>0.042927</td>\n",
       "      <td>-0.518874</td>\n",
       "    </tr>\n",
       "  </tbody>\n",
       "</table>\n",
       "<p>1 rows × 23 columns</p>\n",
       "</div>"
      ],
      "text/plain": [
       "                 track_id                                         track_name  \\\n",
       "0  6f807x0ima9a1j3VPbc7VN  I Don't Care (with Justin Bieber) - Loud Luxur...   \n",
       "\n",
       "  track_artist  track_popularity          track_album_id  \\\n",
       "0   Ed Sheeran          0.941531  2oCs0DGTsRO98Gh5ZSl2Cx   \n",
       "\n",
       "                                    track_album_name track_album_release_date  \\\n",
       "0  I Don't Care (with Justin Bieber) [Loud Luxury...               2019-06-14   \n",
       "\n",
       "  playlist_name             playlist_id playlist_genre  ...     key  loudness  \\\n",
       "0     Pop Remix  37i9dQZF1DXcZDD7cfEKhW            pop  ...  0.1732  1.367123   \n",
       "\n",
       "       mode  speechiness  acousticness  instrumentalness  liveness   valence  \\\n",
       "0  0.876177    -0.481362     -0.333898         -0.377953  -0.80923  0.031908   \n",
       "\n",
       "      tempo  duration_ms  \n",
       "0  0.042927    -0.518874  \n",
       "\n",
       "[1 rows x 23 columns]"
      ]
     },
     "execution_count": 11,
     "metadata": {},
     "output_type": "execute_result"
    }
   ],
   "source": [
    "(scale_numeric_columns(df, table_name)).head(1)"
   ]
  },
  {
   "cell_type": "code",
   "execution_count": 1,
   "id": "089710f7-ea2e-4014-9063-c627c4cb83a6",
   "metadata": {
    "tags": []
   },
   "outputs": [
    {
     "name": "stderr",
     "output_type": "stream",
     "text": [
      "C:\\Users\\jerry\\anaconda3\\Lib\\site-packages\\pandas\\core\\arrays\\masked.py:60: UserWarning: Pandas requires version '1.3.6' or newer of 'bottleneck' (version '1.3.5' currently installed).\n",
      "  from pandas.core import (\n"
     ]
    },
    {
     "name": "stdout",
     "output_type": "stream",
     "text": [
      "   column_1  column_2 column_3\n",
      "1       2.0      20.0        B\n",
      "3       4.0      40.0        D\n"
     ]
    }
   ],
   "source": [
    "import os\n",
    "import sys\n",
    "\n",
    "library_directory = os.path.abspath('C:\\\\Users\\\\jerry\\\\Programming\\\\library')\n",
    "if library_directory not in sys.path:\n",
    "    sys.path.append(library_directory)\n",
    "from pre_processing_utilities import (\n",
    "    pre_processing_nulls\n",
    "    ,pre_processing_dummies\n",
    "    ,pre_processing_scaling\n",
    ")"
   ]
  },
  {
   "cell_type": "code",
   "execution_count": 2,
   "id": "54327e0c-fc7a-44e4-8f2a-a7f02f9f3388",
   "metadata": {
    "tags": []
   },
   "outputs": [],
   "source": [
    "import pandas as pd\n",
    "table_name = \"spotify\"\n",
    "file_path = \"spotify_songs.csv\"\n",
    "df = pd.read_csv(file_path)"
   ]
  },
  {
   "cell_type": "code",
   "execution_count": null,
   "id": "6030b95f-c612-4390-908c-01d42de6af89",
   "metadata": {},
   "outputs": [],
   "source": [
    "pre_processing_nulls\n",
    "    ,pre_processing_dummies\n",
    "    ,pre_processing_scaling"
   ]
  },
  {
   "cell_type": "code",
   "execution_count": null,
   "id": "c7a4a070-7b4b-4296-b11d-f63ec6381e62",
   "metadata": {},
   "outputs": [],
   "source": []
  },
  {
   "cell_type": "code",
   "execution_count": 3,
   "id": "213f4243-6263-47fe-868e-a9b5507f5b1d",
   "metadata": {
    "tags": []
   },
   "outputs": [
    {
     "name": "stdout",
     "output_type": "stream",
     "text": [
      "Processed DataFrame from SQLite table:\n",
      "                     track_id  \\\n",
      "0      6f807x0ima9a1j3VPbc7VN   \n",
      "1      0r7CVbZTWZgbTCYdfa2P31   \n",
      "2      1z1Hg7Vb0AhHDiEmnDE79l   \n",
      "3      75FpbthrwQmzHlBJLuGdC7   \n",
      "4      1e8PAfcKUYoKkxPhrHqw4x   \n",
      "...                       ...   \n",
      "32828  7bxnKAamR3snQ1VGLuVfC1   \n",
      "32829  5Aevni09Em4575077nkWHz   \n",
      "32830  7ImMqPP3Q1yfUHvsdn7wEo   \n",
      "32831  2m69mhnfQ1Oq6lGtXuYhgX   \n",
      "32832  29zWqhca3zt5NsckZqDf6c   \n",
      "\n",
      "                                              track_name      track_artist  \\\n",
      "0      I Don't Care (with Justin Bieber) - Loud Luxur...        Ed Sheeran   \n",
      "1                        Memories - Dillon Francis Remix          Maroon 5   \n",
      "2                        All the Time - Don Diablo Remix      Zara Larsson   \n",
      "3                      Call You Mine - Keanu Silva Remix  The Chainsmokers   \n",
      "4                Someone You Loved - Future Humans Remix     Lewis Capaldi   \n",
      "...                                                  ...               ...   \n",
      "32828               City Of Lights - Official Radio Edit      Lush & Simon   \n",
      "32829                Closer - Sultan & Ned Shepard Remix    Tegan and Sara   \n",
      "32830                       Sweet Surrender - Radio Edit       Starkillers   \n",
      "32831                     Only For You - Maor Levi Remix            Mat Zo   \n",
      "32832                             Typhoon - Original Mix      Julian Calor   \n",
      "\n",
      "       track_popularity          track_album_id  \\\n",
      "0                    66  2oCs0DGTsRO98Gh5ZSl2Cx   \n",
      "1                    67  63rPSO264uRjW1X5E6cWv6   \n",
      "2                    70  1HoSmj2eLcsrR0vE9gThr4   \n",
      "3                    60  1nqYsOef1yKKuGOVchbsk6   \n",
      "4                    69  7m7vv9wlQ4i0LFuJiE2zsQ   \n",
      "...                 ...                     ...   \n",
      "32828                42  2azRoBBWEEEYhqV6sb7JrT   \n",
      "32829                20  6kD6KLxj7s8eCE3ABvAyf5   \n",
      "32830                14  0ltWNSY9JgxoIZO4VzuCa6   \n",
      "32831                15  1fGrOkHnHJcStl14zNx8Jy   \n",
      "32832                27  0X3mUOm6MhxR7PzxG95rAo   \n",
      "\n",
      "                                        track_album_name  \\\n",
      "0      I Don't Care (with Justin Bieber) [Loud Luxury...   \n",
      "1                        Memories (Dillon Francis Remix)   \n",
      "2                        All the Time (Don Diablo Remix)   \n",
      "3                            Call You Mine - The Remixes   \n",
      "4                Someone You Loved (Future Humans Remix)   \n",
      "...                                                  ...   \n",
      "32828                         City Of Lights (Vocal Mix)   \n",
      "32829                                     Closer Remixed   \n",
      "32830                       Sweet Surrender (Radio Edit)   \n",
      "32831                             Only For You (Remixes)   \n",
      "32832                                      Typhoon/Storm   \n",
      "\n",
      "      track_album_release_date    playlist_name             playlist_id  \\\n",
      "0                   2019-06-14        Pop Remix  37i9dQZF1DXcZDD7cfEKhW   \n",
      "1                   2019-12-13        Pop Remix  37i9dQZF1DXcZDD7cfEKhW   \n",
      "2                   2019-07-05        Pop Remix  37i9dQZF1DXcZDD7cfEKhW   \n",
      "3                   2019-07-19        Pop Remix  37i9dQZF1DXcZDD7cfEKhW   \n",
      "4                   2019-03-05        Pop Remix  37i9dQZF1DXcZDD7cfEKhW   \n",
      "...                        ...              ...                     ...   \n",
      "32828               2014-04-28  ♥ EDM LOVE 2020  6jI1gFr6ANFtT8MmTvA2Ux   \n",
      "32829               2013-03-08  ♥ EDM LOVE 2020  6jI1gFr6ANFtT8MmTvA2Ux   \n",
      "32830               2014-04-21  ♥ EDM LOVE 2020  6jI1gFr6ANFtT8MmTvA2Ux   \n",
      "32831               2014-01-01  ♥ EDM LOVE 2020  6jI1gFr6ANFtT8MmTvA2Ux   \n",
      "32832               2014-03-03  ♥ EDM LOVE 2020  6jI1gFr6ANFtT8MmTvA2Ux   \n",
      "\n",
      "      playlist_genre  ... key  loudness  mode  speechiness  acousticness  \\\n",
      "0                pop  ...   6    -2.634     1       0.0583      0.102000   \n",
      "1                pop  ...  11    -4.969     1       0.0373      0.072400   \n",
      "2                pop  ...   1    -3.432     0       0.0742      0.079400   \n",
      "3                pop  ...   7    -3.778     1       0.1020      0.028700   \n",
      "4                pop  ...   1    -4.672     1       0.0359      0.080300   \n",
      "...              ...  ...  ..       ...   ...          ...           ...   \n",
      "32828            edm  ...   2    -1.814     1       0.0936      0.076600   \n",
      "32829            edm  ...   0    -4.462     1       0.0420      0.001710   \n",
      "32830            edm  ...   6    -4.899     0       0.0481      0.108000   \n",
      "32831            edm  ...   2    -3.361     1       0.1090      0.007920   \n",
      "32832            edm  ...   5    -4.571     0       0.0385      0.000133   \n",
      "\n",
      "       instrumentalness  liveness  valence    tempo  duration_ms  \n",
      "0              0.000000    0.0653   0.5180  122.036       194754  \n",
      "1              0.004210    0.3570   0.6930   99.972       162600  \n",
      "2              0.000023    0.1100   0.6130  124.008       176616  \n",
      "3              0.000009    0.2040   0.2770  121.956       169093  \n",
      "4              0.000000    0.0833   0.7250  123.976       189052  \n",
      "...                 ...       ...      ...      ...          ...  \n",
      "32828          0.000000    0.0668   0.2100  128.170       204375  \n",
      "32829          0.004270    0.3750   0.4000  128.041       353120  \n",
      "32830          0.000001    0.1500   0.4360  127.989       210112  \n",
      "32831          0.127000    0.3430   0.3080  128.008       367432  \n",
      "32832          0.341000    0.7420   0.0894  127.984       337500  \n",
      "\n",
      "[32828 rows x 23 columns]\n"
     ]
    }
   ],
   "source": [
    "processed_df = pre_processing_nulls(df)\n",
    "print(\"Processed DataFrame from SQLite table:\")\n",
    "print(processed_df)"
   ]
  },
  {
   "cell_type": "code",
   "execution_count": null,
   "id": "4e05eebf-3950-4885-9de5-c5c5b77dd3ee",
   "metadata": {},
   "outputs": [],
   "source": []
  }
 ],
 "metadata": {
  "kernelspec": {
   "display_name": "Python 3 (ipykernel)",
   "language": "python",
   "name": "python3"
  },
  "language_info": {
   "codemirror_mode": {
    "name": "ipython",
    "version": 3
   },
   "file_extension": ".py",
   "mimetype": "text/x-python",
   "name": "python",
   "nbconvert_exporter": "python",
   "pygments_lexer": "ipython3",
   "version": "3.11.5"
  }
 },
 "nbformat": 4,
 "nbformat_minor": 5
}
