{
 "cells": [
  {
   "cell_type": "code",
   "execution_count": 18,
   "id": "cb05d7f1-4e32-4626-bb4f-99c300eb646c",
   "metadata": {
    "jupyter": {
     "source_hidden": true
    },
    "tags": []
   },
   "outputs": [],
   "source": [
    "import pandas as pd\n",
    "\n",
    "import os\n",
    "import sys\n",
    "\n",
    "library_directory = os.path.abspath('C:\\\\Users\\\\jerry\\\\Programming\\\\library')\n",
    "if library_directory not in sys.path:\n",
    "    sys.path.append(library_directory)\n",
    "from pre_processing_utilities import (\n",
    "    pre_processing_nulls,\n",
    "    pre_processing_dummies,\n",
    "    pre_processing_scaling\n",
    ")\n"
   ]
  },
  {
   "cell_type": "code",
   "execution_count": 19,
   "id": "67831f91-d94c-4ab5-997c-cb234342dc8e",
   "metadata": {
    "tags": []
   },
   "outputs": [
    {
     "data": {
      "text/plain": [
       "track_id                     object\n",
       "track_name                   object\n",
       "track_artist                 object\n",
       "track_popularity              int64\n",
       "track_album_id               object\n",
       "track_album_name             object\n",
       "track_album_release_date     object\n",
       "playlist_name                object\n",
       "playlist_id                  object\n",
       "playlist_genre               object\n",
       "playlist_subgenre            object\n",
       "danceability                float64\n",
       "energy                      float64\n",
       "key                           int64\n",
       "loudness                    float64\n",
       "mode                          int64\n",
       "speechiness                 float64\n",
       "acousticness                float64\n",
       "instrumentalness            float64\n",
       "liveness                    float64\n",
       "valence                     float64\n",
       "tempo                       float64\n",
       "duration_ms                   int64\n",
       "dtype: object"
      ]
     },
     "execution_count": 19,
     "metadata": {},
     "output_type": "execute_result"
    }
   ],
   "source": [
    "df = \"spotify_songs.csv\"\n",
    "df = pd.read_csv(df)\n",
    "df.dtypes"
   ]
  },
  {
   "cell_type": "code",
   "execution_count": null,
   "id": "9b035488-841f-4257-947a-373910bf1fff",
   "metadata": {},
   "outputs": [],
   "source": [
    "df = IMR\n",
    "dependent_variable = 'Determination'\n",
    "independent_variables = ['Age Range', 'Patient Gender']"
   ]
  },
  {
   "cell_type": "code",
   "execution_count": null,
   "id": "575038cc-6569-4ba6-a18c-1745d38d86fb",
   "metadata": {},
   "outputs": [],
   "source": [
    "results = logistic_regression_util(df, dependent_variable, independent_variables)\n",
    "print(results)"
   ]
  },
  {
   "cell_type": "code",
   "execution_count": 10,
   "id": "77a8d72a-97e0-458e-838b-09394d75de37",
   "metadata": {},
   "outputs": [],
   "source": [
    "def string_to_bool(df, columns, true_string, false_string):\n",
    "    for column in columns:\n",
    "        df[column] = df[column].apply(lambda x: True if x == true_string else False)\n",
    "    return df"
   ]
  },
  {
   "cell_type": "code",
   "execution_count": null,
   "id": "0fae5021-61bb-4fc9-93ec-8d7cd1185356",
   "metadata": {},
   "outputs": [],
   "source": [
    "import pandas as pd\n",
    "from sklearn.model_selection import train_test_split\n",
    "from sklearn.linear_model import LogisticRegression\n",
    "from sklearn.metrics import accuracy_score, confusion_matrix, classification_report, r2_score\n",
    "\n",
    "def logistic_regression_util(df, dependent_variable, independent_variables):\n",
    "    # Prepare the data\n",
    "    y = df[dependent_variable].values.ravel()  # Convert to 1D array\n",
    "    X = df[independent_variables]\n",
    "    \n",
    "    # Split the data into training and testing sets\n",
    "    X_train, X_test, y_train, y_test = train_test_split(X, y, test_size=0.2, random_state=42)\n",
    "    \n",
    "    # Create the logistic regression model\n",
    "    model = LogisticRegression(max_iter=1000)\n",
    "    \n",
    "    # Fit the model on the training data\n",
    "    model.fit(X_train, y_train)\n",
    "    \n",
    "    # Make predictions on the test data\n",
    "    y_pred = model.predict(X_test)\n",
    "    \n",
    "    # Calculate the metrics\n",
    "    accuracy = accuracy_score(y_test, y_pred)\n",
    "    confusion_mat = confusion_matrix(y_test, y_pred)\n",
    "    classification_rep = classification_report(y_test, y_pred, output_dict=True)\n",
    "    r_squared = r2_score(y_test, y_pred)\n",
    "    \n",
    "    # Create a dataframe for the results\n",
    "    logistic_regression_results = pd.DataFrame({\n",
    "        'Accuracy_Score': [accuracy],\n",
    "        'Confusion_Matrix': [confusion_mat],\n",
    "        'Classification_Report': [classification_rep],\n",
    "        'Predictions_vs_Actuals': [(list(zip(y_test, y_pred)))],\n",
    "        'R_squared': [r_squared]\n",
    "    })\n",
    "    \n",
    "    return logistic_regression_results"
   ]
  }
 ],
 "metadata": {
  "kernelspec": {
   "display_name": "Python 3 (ipykernel)",
   "language": "python",
   "name": "python3"
  },
  "language_info": {
   "codemirror_mode": {
    "name": "ipython",
    "version": 3
   },
   "file_extension": ".py",
   "mimetype": "text/x-python",
   "name": "python",
   "nbconvert_exporter": "python",
   "pygments_lexer": "ipython3",
   "version": "3.11.5"
  }
 },
 "nbformat": 4,
 "nbformat_minor": 5
}
